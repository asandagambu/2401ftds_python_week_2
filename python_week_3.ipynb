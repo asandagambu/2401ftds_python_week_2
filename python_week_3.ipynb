{
 "cells": [
  {
   "cell_type": "markdown",
   "metadata": {},
   "source": [
    "Write a Python function to check whether a number is divisible by another number. Accept two integer values from the user."
   ]
  },
  {
   "cell_type": "code",
   "execution_count": 1,
   "metadata": {},
   "outputs": [
    {
     "name": "stdout",
     "output_type": "stream",
     "text": [
      "True\n",
      "False\n"
     ]
    }
   ],
   "source": [
    "def a_number_divisible(dividend, divisor):\n",
    "    if dividend % divisor == 0:\n",
    "        return True\n",
    "    else: \n",
    "        return False\n",
    "    \n",
    "# Accept two intergers from user:\n",
    "print(a_number_divisible(2,2))\n",
    "print(a_number_divisible(3,5))"
   ]
  },
  {
   "cell_type": "markdown",
   "metadata": {},
   "source": [
    "Write a Python function to check whether a distinct pair of numbers whose product is odd is present in a sequence of integer values.\n",
    "\n",
    "*Pictorial Presentation of the sequence [2, 4, 6, 8]:*\n",
    "\n",
    "<img src=\"pictorial_presentation.png\">\n",
    "\n",
    "*Pictorial Presentation of the sequence [1, 6, 4, 7, 8]:*\n",
    "\n",
    "<img src=\"pictorial_presentation_true.png\">"
   ]
  },
  {
   "cell_type": "code",
   "execution_count": 2,
   "metadata": {},
   "outputs": [],
   "source": [
    "def odd_product(nums):\n",
    "    for a in range(len(nums)):\n",
    "        for b in range(len(nums)):\n",
    "            if a != b:\n",
    "                product = nums[a] * nums[b]\n",
    "                if product & 1:\n",
    "                    return True\n",
    "    return False"
   ]
  },
  {
   "cell_type": "code",
   "execution_count": 3,
   "metadata": {},
   "outputs": [
    {
     "name": "stdout",
     "output_type": "stream",
     "text": [
      "[2, 4, 6, 8] False\n",
      "[1, 6, 4, 7, 8] True\n",
      "[1, 3, 5, 7, 9] True\n"
     ]
    }
   ],
   "source": [
    "# Define three lists of integers.\n",
    "dt1 = [2, 4, 6, 8]\n",
    "dt2 = [1, 6, 4, 7, 8]\n",
    "dt3 = [1, 3, 5, 7, 9]\n",
    "\n",
    "# Call the 'odd_product' function for each list and print the result.\n",
    "print(dt1, odd_product(dt1))\n",
    "print(dt2, odd_product(dt2))\n",
    "print(dt3, odd_product(dt3))"
   ]
  }
 ],
 "metadata": {
  "kernelspec": {
   "display_name": "base",
   "language": "python",
   "name": "python3"
  },
  "language_info": {
   "codemirror_mode": {
    "name": "ipython",
    "version": 3
   },
   "file_extension": ".py",
   "mimetype": "text/x-python",
   "name": "python",
   "nbconvert_exporter": "python",
   "pygments_lexer": "ipython3",
   "version": "3.11.5"
  }
 },
 "nbformat": 4,
 "nbformat_minor": 2
}
